{
 "cells": [
  {
   "cell_type": "code",
   "execution_count": 1,
   "id": "e7119725",
   "metadata": {},
   "outputs": [
    {
     "name": "stdout",
     "output_type": "stream",
     "text": [
      "    *\n",
      "   **\n",
      "  ***\n",
      " ****\n",
      "*****\n"
     ]
    }
   ],
   "source": [
    "for i in range(1,6):\n",
    "    print(int(5-i) * \" \" +  i * \"*\")"
   ]
  },
  {
   "cell_type": "code",
   "execution_count": 2,
   "id": "6da9d4aa",
   "metadata": {},
   "outputs": [
    {
     "name": "stdout",
     "output_type": "stream",
     "text": [
      "*\n",
      "**\n",
      "***\n",
      "****\n",
      "*****\n"
     ]
    }
   ],
   "source": [
    "for i in range(1,6):\n",
    "    print(i * \"*\")"
   ]
  },
  {
   "cell_type": "code",
   "execution_count": 4,
   "id": "c4a1cec5",
   "metadata": {},
   "outputs": [
    {
     "name": "stdout",
     "output_type": "stream",
     "text": [
      "12345\n",
      "1 2 3 4 5\n"
     ]
    }
   ],
   "source": [
    "strNum = input()\n",
    "numArr = [];\n",
    "for n in strNum:\n",
    "    numArr.append(int(n))\n",
    "print(*numArr)"
   ]
  },
  {
   "cell_type": "code",
   "execution_count": 1,
   "id": "5903a987",
   "metadata": {},
   "outputs": [
    {
     "name": "stdout",
     "output_type": "stream",
     "text": [
      "Shahrukh\n",
      "Timing 9 to 12\n",
      "Location: Gulshan\n",
      "    *\n",
      "   **\n",
      "  ***\n",
      " ****\n",
      "*****\n"
     ]
    }
   ],
   "source": [
    "print(\"Shahrukh\")\n",
    "# print(\"Saylani Batch 1\")\n",
    "print(\"Timing 9 to 12\")\n",
    "print(\"Location: Gulshan\")\n",
    "\n",
    "age = 1\n",
    "\n",
    "# if age >= 1 and age < 8:\n",
    "#     print(\"Bachaa\")\n",
    "# elif age >= 8 and age < 19:\n",
    "#     print(\"Teenager\")\n",
    "# else:\n",
    "#     print(\"Admi\")\n",
    "\n",
    "# fruits = [\"Mangoe\", \"Peach\", \"Apple\"]\n",
    "# for i in range(0, len(fruits)):\n",
    "#     print(i)\n",
    "#     print(fruits[i])\n",
    "\n",
    "# [1,2,3,4,5]\n",
    "for i in range(1,6):\n",
    "    print(int(5-i) * \" \" +  i * \"*\")\n"
   ]
  },
  {
   "cell_type": "markdown",
   "id": "07048009",
   "metadata": {},
   "source": []
  }
 ],
 "metadata": {
  "kernelspec": {
   "display_name": "Python 3 (ipykernel)",
   "language": "python",
   "name": "python3"
  },
  "language_info": {
   "codemirror_mode": {
    "name": "ipython",
    "version": 3
   },
   "file_extension": ".py",
   "mimetype": "text/x-python",
   "name": "python",
   "nbconvert_exporter": "python",
   "pygments_lexer": "ipython3",
   "version": "3.9.12"
  }
 },
 "nbformat": 4,
 "nbformat_minor": 5
}
